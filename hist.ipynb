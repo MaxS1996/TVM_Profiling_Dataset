{
 "cells": [
  {
   "cell_type": "code",
   "execution_count": 1,
   "id": "286eea35-1939-43f7-b572-76b1aabc4978",
   "metadata": {},
   "outputs": [
    {
     "name": "stderr",
     "output_type": "stream",
     "text": [
      "2022-03-02 07:43:33.814910: W tensorflow/stream_executor/platform/default/dso_loader.cc:64] Could not load dynamic library 'libcudart.so.11.0'; dlerror: libcudart.so.11.0: cannot open shared object file: No such file or directory\n",
      "2022-03-02 07:43:33.814994: I tensorflow/stream_executor/cuda/cudart_stub.cc:29] Ignore above cudart dlerror if you do not have a GPU set up on your machine.\n"
     ]
    }
   ],
   "source": [
    "import json\n",
    "from operator import index\n",
    "import os\n",
    "import numpy as np\n",
    "import pandas as pd\n",
    "from matplotlib import pyplot as plt\n",
    "import pickle\n",
    "import time\n",
    "\n",
    "from sklearn.neighbors import KNeighborsRegressor\n",
    "from sklearn.tree import DecisionTreeRegressor\n",
    "from sklearn.linear_model import LinearRegression\n",
    "from sklearn.svm import SVR\n",
    "from sklearn.neural_network import MLPRegressor\n",
    "from sklearn.ensemble import ExtraTreesRegressor\n",
    "import xgboost as xgb\n",
    "import tensorflow as tf\n",
    "\n",
    "from sklearn.model_selection import train_test_split\n",
    "\n",
    "from sklearn.metrics import mean_absolute_percentage_error\n",
    "from sklearn.metrics import mean_absolute_error\n",
    "from sklearn.metrics import r2_score\n",
    "\n",
    "import warnings\n",
    "warnings.filterwarnings('ignore', '.*sliced data.*', )"
   ]
  },
  {
   "cell_type": "code",
   "execution_count": 5,
   "id": "be4bfdc1-609c-4186-9d1e-6fd7e325b59e",
   "metadata": {
    "tags": []
   },
   "outputs": [],
   "source": [
    "def prepare_dataset(path : str, workload_name : str):\n",
    "    dataset = {}\n",
    "    files = os.listdir(path)\n",
    "\n",
    "    for file in files:\n",
    "        with open(path+\"/\"+file, \"r\") as f:\n",
    "            raw_str = f.read()\n",
    "        data = json.loads(raw_str)\n",
    "\n",
    "        if \"layers\" in data.keys():\n",
    "            del data[\"layers\"]\n",
    "\n",
    "        if \"relay\" in data.keys():\n",
    "            del data[\"relay\"]\n",
    "\n",
    "        if \"conv2d\" in workload_name:\n",
    "            data[\"kernel_0\"] = data[\"kernel\"][0]\n",
    "            data[\"kernel_1\"] = data[\"kernel\"][1]\n",
    "            del data[\"kernel\"]\n",
    "            data[\"dilation_0\"] = data[\"dilation\"][0]\n",
    "            data[\"dilation_1\"] = data[\"dilation\"][1]\n",
    "            del data[\"dilation\"]\n",
    "\n",
    "            if not \"kernel layout\" in data.keys():\n",
    "                data[\"kernel layout\"] = \"OIHW\"\n",
    "\n",
    "        elif workload_name == \"dense\":\n",
    "            data[\"features\"] = data[\"input shape\"][1]\n",
    "            del data[\"input shape\"]\n",
    "            del data[\"output shape\"]\n",
    "            #print()\n",
    "\n",
    "        elif workload_name in [\"max_pool2d\", \"avg_pool2d\"]:\n",
    "            data[\"pool_0\"] = data[\"pool_size\"][0]\n",
    "            data[\"pool_1\"] = data[\"pool_size\"][1]\n",
    "            del data[\"pool_size\"]\n",
    "\n",
    "        if workload_name in [\"max_pool2d\", \"avg_pool2d\", \"conv2d\", \"dilated_conv2d\", \"depthwise_conv2d\"]:\n",
    "            del data[\"padding\"]\n",
    "            data[\"C_I\"] = data[\"input shape\"][3]\n",
    "            data[\"H_I\"] = data[\"input shape\"][1]\n",
    "            data[\"W_I\"] = data[\"input shape\"][2]\n",
    "            del data[\"input shape\"]\n",
    "\n",
    "            data[\"C_O\"] = data[\"output shape\"][3]\n",
    "            data[\"H_O\"] = data[\"output shape\"][1]\n",
    "            data[\"W_O\"] = data[\"output shape\"][2]\n",
    "            del data[\"output shape\"]\n",
    "\n",
    "            key = \"strides\"\n",
    "            if \"stride\" in data.keys():\n",
    "                key = \"stride\"\n",
    "            #print(key)\n",
    "            data[\"strides_0\"] = data[key][0]\n",
    "            data[\"strides_1\"] = data[key][1]\n",
    "            del data[\"strides\"]\n",
    "            if \"stride\" in data.keys():\n",
    "                del data[\"stride\"]\n",
    "\n",
    "        dataset[file] = data\n",
    "\n",
    "    return dataset\n",
    "\n",
    "def create_dataframe(dataset : dict, workload_name : str, labels = [\"time\", \"power\", \"memory\"], duplicate_removal=True):\n",
    "    df = pd.DataFrame.from_dict(dataset, orient='index')\n",
    "    categoricals = [\n",
    "        \"output dtype\",\n",
    "        \"compute dtype\",\n",
    "        \"workload\",\n",
    "        ]\n",
    "    if workload_name in [\"conv2d\", \"max_pool2d\", \"avg_pool2d\", \"depthwise_conv2d\", \"dilated_conv2d\"]:\n",
    "        if \"data_layout\" in list(df.columns):\n",
    "            categoricals += [\n",
    "                #\"padding\",\n",
    "                \"data_layout\",\n",
    "            ]\n",
    "        else:    \n",
    "            categoricals += [\n",
    "                #\"padding\",\n",
    "                \"data layout\",\n",
    "            ]\n",
    "        \n",
    "\n",
    "    if \"conv2d\" in workload_name:\n",
    "        if \"kernel_layout\" in list(df.columns):\n",
    "            categoricals += [\n",
    "                \"kernel_layout\",\n",
    "            ]\n",
    "        if \"kernel layout\" in list(df.columns):\n",
    "            categoricals += [\n",
    "                \"kernel layout\",\n",
    "            ]\n",
    "\n",
    "    for col in categoricals:\n",
    "        oh = pd.get_dummies(df[col], prefix=col, drop_first=False)\n",
    "        df = pd.concat([df, oh], axis=1).drop(col, axis=1)\n",
    "    \n",
    "    features = list(df.columns)\n",
    "    #labels = [\"time\", \"power\", \"memory\"]\n",
    "    for label in labels:\n",
    "        idx = features.index(label)\n",
    "        del features[idx]\n",
    "    del idx\n",
    "    if duplicate_removal:\n",
    "        df = df.drop_duplicates(subset=features)\n",
    "\n",
    "    label_data = []\n",
    "    for label in labels:\n",
    "        label_data.append(df[label])\n",
    "        df.pop(label)\n",
    "\n",
    "    output = pd.concat(label_data, axis=1)\n",
    "\n",
    "    return df, output"
   ]
  },
  {
   "cell_type": "code",
   "execution_count": 3,
   "id": "f2c2d929-cd93-428c-a16e-4fcbe07f364f",
   "metadata": {},
   "outputs": [
    {
     "name": "stdout",
     "output_type": "stream",
     "text": [
      "./dataset/cuda_980ti/avg_pool2d/\n",
      "./dataset/cuda_980ti/conv2d/\n",
      "./dataset/cuda_980ti/dense/\n",
      "./dataset/cuda_980ti/depthwise_conv2d/\n",
      "./dataset/cuda_980ti/dilated_conv2d/\n",
      "./dataset/cuda_980ti/max_pool2d/\n",
      "./dataset/cuda_A100/avg_pool2d/\n",
      "./dataset/cuda_A100/conv2d/\n",
      "./dataset/cuda_A100/dense/\n",
      "./dataset/cuda_A100/depthwise_conv2d/\n",
      "./dataset/cuda_A100/dilated_conv2d/\n",
      "./dataset/cuda_A100/max_pool2d/\n",
      "./dataset/cuda_K80/avg_pool2d/\n",
      "./dataset/cuda_K80/conv2d/\n",
      "./dataset/cuda_K80/dense/\n",
      "./dataset/cuda_K80/depthwise_conv2d/\n",
      "./dataset/cuda_K80/dilated_conv2d/\n",
      "./dataset/cuda_K80/max_pool2d/\n",
      "./dataset/llvm -mcpu=haswell_E5-2680/avg_pool2d/\n",
      "./dataset/llvm -mcpu=haswell_E5-2680/conv2d/\n",
      "./dataset/llvm -mcpu=haswell_E5-2680/dense/\n",
      "./dataset/llvm -mcpu=haswell_E5-2680/depthwise_conv2d/\n",
      "./dataset/llvm -mcpu=haswell_E5-2680/dilated_conv2d/\n",
      "./dataset/llvm -mcpu=haswell_E5-2680/max_pool2d/\n",
      "./dataset/rasp4b/conv2d/\n",
      "found 25 folders with samples, going to train models for each of these targets\n",
      "\n"
     ]
    }
   ],
   "source": [
    "dataset_base = \"./dataset\"\n",
    "targets = os.listdir(dataset_base)\n",
    "\n",
    "layer_targets = list()\n",
    "for target in targets:\n",
    "    target_path = dataset_base + \"/\" + target\n",
    "    layers = os.listdir(target_path)\n",
    "    \n",
    "    for layer in layers:\n",
    "        dataset_path = target_path + \"/\" + layer + \"/\"\n",
    "        print(dataset_path)\n",
    "        layer_targets.append(dataset_path)\n",
    "\n",
    "print(\"found {0} folders with samples, going to train models for each of these targets\".format(len(layer_targets)))\n",
    "print()"
   ]
  },
  {
   "cell_type": "code",
   "execution_count": 7,
   "id": "76e96a23-2493-464e-af15-de33a7ee1edf",
   "metadata": {},
   "outputs": [
    {
     "name": "stdout",
     "output_type": "stream",
     "text": [
      "conv2d : rasp4b\t:\t contains 9031 samples\n",
      "\t[INFO] Remaining Samples after duplicate elimination:\t1909\n"
     ]
    },
    {
     "data": {
      "image/png": "[encoded data removed]",
      "text/plain": [
       "<Figure size 1800x576 with 1 Axes>"
      ]
     },
     "metadata": {
      "needs_background": "light"
     },
     "output_type": "display_data"
    },
    {
     "data": {
      "image/png": "[encoded data removed]",
      "text/plain": [
       "<Figure size 1800x576 with 1 Axes>"
      ]
     },
     "metadata": {
      "needs_background": "light"
     },
     "output_type": "display_data"
    }
   ],
   "source": [
    "import matplotlib.pyplot as plt\n",
    "plt.rcParams[\"figure.figsize\"] = (25,8)\n",
    "dataset = None\n",
    "for target in layer_targets:\n",
    "    tmp = target.split(\"/\")\n",
    "    workload_name = tmp[-2]\n",
    "    device_name = tmp[-3]\n",
    "    files = os.listdir(target)\n",
    "    \n",
    "    if device_name != \"rasp4b\":\n",
    "        continue\n",
    "    \n",
    "    labels = [\"time\", \"power\", \"memory\"]\n",
    "    if device_name == \"rasp4b\":\n",
    "        labels = [\"time\", \"power\", \"ws_size\", \"io_size\"]\n",
    "    \n",
    "    print(\"{} : {}\\t:\\t contains {} samples\".format(workload_name, device_name, len(files)))\n",
    "    dataset = prepare_dataset(target, workload_name)\n",
    "    #print(\"\\tLoading data into memory:\\tcompleted\")\n",
    "    df, output = create_dataframe(dataset, workload_name, labels=labels, duplicate_removal=False)\n",
    "    output.hist(column=\"power\", bins=100)\n",
    "    \n",
    "    df, output = create_dataframe(dataset, workload_name, labels=labels, duplicate_removal=True)\n",
    "    print(\"\\t[INFO] Remaining Samples after duplicate elimination:\\t{}\".format(len(df)))\n",
    "    output.hist(column=\"power\", bins=100)"
   ]
  },
  {
   "cell_type": "code",
   "execution_count": null,
   "id": "f989af41-a284-4d1e-b856-4de1bf92e79d",
   "metadata": {},
   "outputs": [],
   "source": []
  }
 ],
 "metadata": {
  "kernelspec": {
   "display_name": "Python 3 (ipykernel)",
   "language": "python",
   "name": "python3"
  },
  "language_info": {
   "codemirror_mode": {
    "name": "ipython",
    "version": 3
   },
   "file_extension": ".py",
   "mimetype": "text/x-python",
   "name": "python",
   "nbconvert_exporter": "python",
   "pygments_lexer": "ipython3",
   "version": "3.8.10"
  }
 },
 "nbformat": 4,
 "nbformat_minor": 5
}
